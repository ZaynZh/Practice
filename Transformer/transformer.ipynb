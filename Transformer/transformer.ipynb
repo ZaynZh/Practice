{
 "cells": [
  {
   "cell_type": "code",
   "execution_count": 9,
   "metadata": {},
   "outputs": [
    {
     "name": "stdout",
     "output_type": "stream",
     "text": [
      "The autoreload extension is already loaded. To reload it, use:\n",
      "  %reload_ext autoreload\n"
     ]
    }
   ],
   "source": [
    "%load_ext autoreload\n",
    "%autoreload 2\n",
    "\n"
   ]
  },
  {
   "cell_type": "code",
   "execution_count": 10,
   "metadata": {},
   "outputs": [],
   "source": [
    "import math\n",
    "import torch\n",
    "import torch.nn as nn\n",
    "import torch.nn.functional as F\n",
    "import torchtext\n",
    "from torchtext.data.utils import get_tokenizer\n",
    "import numpy as np\n",
    "from torch.autograd import Variable\n",
    "from encoderdecoder import make_model\n",
    "from encoderdecoder import subsequent_mask"
   ]
  },
  {
   "cell_type": "code",
   "execution_count": 11,
   "metadata": {},
   "outputs": [],
   "source": [
    "TEXT = torchtext.data.Field(tokenize=get_tokenizer('basic_english'), init_token='<sos>', eos_token='<eos>', lower=True)\n",
    "\n",
    "train_txt, val_txt, test_txt = torchtext.datasets.WikiText2.splits(TEXT)\n",
    "\n",
    "TEXT.build_vocab(train_txt)\n",
    "\n",
    "device = torch.device(\"cuda\" if torch.cuda.is_available() else \"cpu\")"
   ]
  },
  {
   "cell_type": "code",
   "execution_count": 12,
   "metadata": {},
   "outputs": [],
   "source": [
    "def batchify(data, bsz):\n",
    "    data = TEXT.numericalize([data.examples[0].text])\n",
    "\n",
    "    nbatch = data.size(0) // bsz\n",
    "    data = data.narrow(0, 0, nbatch * bsz)\n",
    "    data = data.view(bsz, -1).t().contiguous()\n",
    "    return data.to(device)\n",
    "\n",
    "\n",
    "batch_size = 20\n",
    "eval_batch_size = 10\n",
    "\n",
    "train_data = batchify(train_txt, batch_size)\n",
    "val_data = batchify(val_txt, eval_batch_size)\n",
    "test_data = batchify(test_txt, batch_size)\n",
    "\n",
    "bptt = 35\n",
    "\n",
    "def get_batch(source, i):\n",
    "    seq_len = min(bptt, len(source) - 1 - i)\n",
    "    src = source[i:i+seq_len].t().contiguous()\n",
    "    target = source[i+1:i+seq_len+1].t().contiguous()\n",
    "    return src, target"
   ]
  },
  {
   "cell_type": "code",
   "execution_count": null,
   "metadata": {},
   "outputs": [],
   "source": [
    "ntokens = len(TEXT.vocab.stoi)\n",
    "emsize = 200\n",
    "nhid = 200\n",
    "nlayers = 2\n",
    "nhead = 2\n",
    "dropout = 0.2\n",
    "lr = 0.1\n",
    "model = make_model(source_vocab=ntokens, target_vocab=ntokens, N=2)\n",
    "criterion = nn.CrossEntropyLoss()\n",
    "optimizer = torch.optim.Adam(model.parameters(),lr=lr)\n",
    "scheduler = torch.optim.lr_scheduler.StepLR(optimizer=optimizer, step_size=1, gamma=0.95)\n"
   ]
  },
  {
   "cell_type": "code",
   "execution_count": 23,
   "metadata": {},
   "outputs": [],
   "source": [
    "import time\n",
    "\n",
    "def train():\n",
    "    model.train()\n",
    "    total_loss = 0.\n",
    "    start_time = time.time()\n",
    "\n",
    "    for batch, i in enumerate(range(0, train_data.size(0)-1, bptt)):\n",
    "        source, target = get_batch(train_data, i)\n",
    "        mask = subsequent_mask(source.size(1))\n",
    "        optimizer.zero_grad()\n",
    "        output = model(source, target, mask, mask)\n",
    "        loss = criterion(output.view(-1, ntokens), target.view(-1))\n",
    "        loss.backward()\n",
    "        torch.nn.utils.clip_grad_norm_(model.parameters(),0.5)\n",
    "        optimizer.step()\n",
    "        total_loss += loss.item()\n",
    "        log_interval = 200\n",
    "\n",
    "        if batch % log_interval ==0 and batch > 0:\n",
    "            elapsed = time.time() - start_time\n",
    "            print(\"epochs:\",epoch,\"\\t\",\"batches:\",batch,\"\\t\",\"loss:\",loss,\"\\t\",elapsed * 1000 / log_interval,\"ms/batch\",\"\\n\")\n",
    "            total_loss = 0\n",
    "            start_time = time.time()\n",
    "\n",
    "def evaluate(eval_model, data_source):\n",
    "    eval_model.eval()\n",
    "    total_loss = 0\n",
    "    with torch.no_grad():\n",
    "        for i in range(0, data_source.size(0), bptt):\n",
    "            source, target = get_batch(data_source, i)\n",
    "            mask = subsequent_mask(source.size(1))\n",
    "            output = eval_model(source, target, mask, mask)\n",
    "            loss = criterion(output.view(-1, ntokens), target.view(-1))\n",
    "            total_loss += loss.item()\n",
    "\n",
    "    return total_loss"
   ]
  },
  {
   "cell_type": "code",
   "execution_count": 24,
   "metadata": {},
   "outputs": [
    {
     "name": "stdout",
     "output_type": "stream",
     "text": [
      "epochs: 1 \t batches: 200 \t loss: tensor(6.5790, grad_fn=<NllLossBackward0>) \t 535.3096842765808 ms/batch \n",
      "\n",
      "epochs: 1 \t batches: 400 \t loss: tensor(7.0774, grad_fn=<NllLossBackward0>) \t 539.1224372386932 ms/batch \n",
      "\n",
      "epochs: 1 \t batches: 600 \t loss: tensor(7.2337, grad_fn=<NllLossBackward0>) \t 528.6331367492676 ms/batch \n",
      "\n",
      "epochs: 1 \t batches: 800 \t loss: tensor(16.1844, grad_fn=<NllLossBackward0>) \t 528.3575987815857 ms/batch \n",
      "\n",
      "epochs: 1 \t batches: 1000 \t loss: tensor(7.6496, grad_fn=<NllLossBackward0>) \t 531.2740540504456 ms/batch \n",
      "\n",
      "epochs: 1 \t batches: 1200 \t loss: tensor(7.6510, grad_fn=<NllLossBackward0>) \t 533.8312685489655 ms/batch \n",
      "\n",
      "epochs: 1 \t batches: 1400 \t loss: tensor(6.8532, grad_fn=<NllLossBackward0>) \t 532.6292955875397 ms/batch \n",
      "\n",
      "epochs: 1 \t batches: 1600 \t loss: tensor(7.1578, grad_fn=<NllLossBackward0>) \t 530.5762588977814 ms/batch \n",
      "\n",
      "epochs: 1 \t batches: 1800 \t loss: tensor(6.9524, grad_fn=<NllLossBackward0>) \t 529.5039236545563 ms/batch \n",
      "\n",
      "epochs: 1 \t batches: 2000 \t loss: tensor(7.9873, grad_fn=<NllLossBackward0>) \t 529.5436763763428 ms/batch \n",
      "\n",
      "epochs: 1 \t batches: 2200 \t loss: tensor(7.6323, grad_fn=<NllLossBackward0>) \t 526.5765941143036 ms/batch \n",
      "\n",
      "epochs: 1 \t batches: 2400 \t loss: tensor(8.3089, grad_fn=<NllLossBackward0>) \t 529.38281416893 ms/batch \n",
      "\n",
      "epochs: 1 \t batches: 2600 \t loss: tensor(7.3590, grad_fn=<NllLossBackward0>) \t 527.1220624446869 ms/batch \n",
      "\n",
      "epochs: 1 \t batches: 2800 \t loss: tensor(7.2708, grad_fn=<NllLossBackward0>) \t 529.1076648235321 ms/batch \n",
      "\n",
      "#########################################################################################\n",
      "valid loss: 4557.674576759338\n",
      "#########################################################################################\n"
     ]
    }
   ],
   "source": [
    "best_val_loss = float(\"inf\")\n",
    "\n",
    "epochs = 1\n",
    "\n",
    "best_model = None\n",
    "\n",
    "for epoch in range(1, epochs + 1):\n",
    "\n",
    "    train()\n",
    "    val_loss = evaluate(model, val_data)\n",
    "\n",
    "    print('#' * 89)\n",
    "    print(\"valid loss:\", val_loss)\n",
    "    print('#' * 89)\n",
    "\n",
    "    if val_loss < best_val_loss:\n",
    "        best_val_loss = val_loss\n",
    "        best_model = model\n",
    "    \n",
    "    scheduler.step()"
   ]
  },
  {
   "cell_type": "code",
   "execution_count": 22,
   "metadata": {},
   "outputs": [
    {
     "data": {
      "text/plain": [
       "3630.100763320923"
      ]
     },
     "execution_count": 22,
     "metadata": {},
     "output_type": "execute_result"
    }
   ],
   "source": [
    "best_val_loss"
   ]
  }
 ],
 "metadata": {
  "kernelspec": {
   "display_name": "base",
   "language": "python",
   "name": "python3"
  },
  "language_info": {
   "codemirror_mode": {
    "name": "ipython",
    "version": 3
   },
   "file_extension": ".py",
   "mimetype": "text/x-python",
   "name": "python",
   "nbconvert_exporter": "python",
   "pygments_lexer": "ipython3",
   "version": "3.10.9"
  },
  "orig_nbformat": 4
 },
 "nbformat": 4,
 "nbformat_minor": 2
}
